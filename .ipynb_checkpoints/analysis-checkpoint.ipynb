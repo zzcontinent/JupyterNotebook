{
 "cells": [
  {
   "cell_type": "code",
   "execution_count": 430,
   "metadata": {},
   "outputs": [
    {
     "name": "stdout",
     "output_type": "stream",
     "text": [
      "(-2.3980952380952383, 33.66391475557026)\n"
     ]
    },
    {
     "data": {
      "text/html": [
       "<div>\n",
       "<style scoped>\n",
       "    .dataframe tbody tr th:only-of-type {\n",
       "        vertical-align: middle;\n",
       "    }\n",
       "\n",
       "    .dataframe tbody tr th {\n",
       "        vertical-align: top;\n",
       "    }\n",
       "\n",
       "    .dataframe thead th {\n",
       "        text-align: right;\n",
       "    }\n",
       "</style>\n",
       "<table border=\"1\" class=\"dataframe\">\n",
       "  <thead>\n",
       "    <tr style=\"text-align: right;\">\n",
       "      <th></th>\n",
       "      <th>config_id</th>\n",
       "      <th>job_name</th>\n",
       "      <th>trgt</th>\n",
       "      <th>comment</th>\n",
       "      <th>cnt1</th>\n",
       "      <th>cnt2</th>\n",
       "      <th>diff</th>\n",
       "      <th>pk1</th>\n",
       "      <th>pk2</th>\n",
       "      <th>time1</th>\n",
       "      <th>time2</th>\n",
       "      <th>created_tm</th>\n",
       "      <th>updated_tm</th>\n",
       "    </tr>\n",
       "  </thead>\n",
       "  <tbody>\n",
       "    <tr>\n",
       "      <th>518</th>\n",
       "      <td>5634</td>\n",
       "      <td>woda@ods_vs_online</td>\n",
       "      <td>tbperformanceuserbrokerrelation</td>\n",
       "      <td>select count(*) from tbperformanceuserbrokerre...</td>\n",
       "      <td>390578</td>\n",
       "      <td>391243</td>\n",
       "      <td>-665</td>\n",
       "      <td>NaN</td>\n",
       "      <td>NaN</td>\n",
       "      <td>dtStartDate,dtMonth,dtCreateTime,dtModifyTime</td>\n",
       "      <td>dtStartDate,dtMonth,dtCreateTime,dtModifyTime</td>\n",
       "      <td>2018-11-09 06:06:48.182010</td>\n",
       "      <td>NaN</td>\n",
       "    </tr>\n",
       "    <tr>\n",
       "      <th>519</th>\n",
       "      <td>5110</td>\n",
       "      <td>woda@ods_vs_online</td>\n",
       "      <td>tbperformancezxx</td>\n",
       "      <td>select count(*) from tbperformancezxx</td>\n",
       "      <td>229288</td>\n",
       "      <td>229566</td>\n",
       "      <td>-278</td>\n",
       "      <td>NaN</td>\n",
       "      <td>NaN</td>\n",
       "      <td>dtCheckInTime,dtHireDate,dtLeaveDate,dtHireDat...</td>\n",
       "      <td>dtCheckInTime,dtHireDate,dtLeaveDate,dtHireDat...</td>\n",
       "      <td>2018-11-09 06:06:48.182010</td>\n",
       "      <td>NaN</td>\n",
       "    </tr>\n",
       "    <tr>\n",
       "      <th>520</th>\n",
       "      <td>4963</td>\n",
       "      <td>woda@ods_vs_online</td>\n",
       "      <td>tbperformancezxxtmp</td>\n",
       "      <td>select count(*) from tbperformancezxxtmp</td>\n",
       "      <td>43422</td>\n",
       "      <td>43700</td>\n",
       "      <td>-278</td>\n",
       "      <td>NaN</td>\n",
       "      <td>NaN</td>\n",
       "      <td>dtCheckInTime,dtHireDate,dtLeaveDate,dtHireDat...</td>\n",
       "      <td>dtCheckInTime,dtHireDate,dtLeaveDate,dtHireDat...</td>\n",
       "      <td>2018-11-09 06:06:48.182010</td>\n",
       "      <td>NaN</td>\n",
       "    </tr>\n",
       "  </tbody>\n",
       "</table>\n",
       "</div>"
      ],
      "text/plain": [
       "     config_id            job_name                             trgt  \\\n",
       "518       5634  woda@ods_vs_online  tbperformanceuserbrokerrelation   \n",
       "519       5110  woda@ods_vs_online                 tbperformancezxx   \n",
       "520       4963  woda@ods_vs_online              tbperformancezxxtmp   \n",
       "\n",
       "                                               comment    cnt1    cnt2  diff  \\\n",
       "518  select count(*) from tbperformanceuserbrokerre...  390578  391243  -665   \n",
       "519             select count(*) from tbperformancezxx   229288  229566  -278   \n",
       "520          select count(*) from tbperformancezxxtmp    43422   43700  -278   \n",
       "\n",
       "     pk1  pk2                                              time1  \\\n",
       "518  NaN  NaN      dtStartDate,dtMonth,dtCreateTime,dtModifyTime   \n",
       "519  NaN  NaN  dtCheckInTime,dtHireDate,dtLeaveDate,dtHireDat...   \n",
       "520  NaN  NaN  dtCheckInTime,dtHireDate,dtLeaveDate,dtHireDat...   \n",
       "\n",
       "                                                 time2  \\\n",
       "518      dtStartDate,dtMonth,dtCreateTime,dtModifyTime   \n",
       "519  dtCheckInTime,dtHireDate,dtLeaveDate,dtHireDat...   \n",
       "520  dtCheckInTime,dtHireDate,dtLeaveDate,dtHireDat...   \n",
       "\n",
       "                     created_tm  updated_tm  \n",
       "518  2018-11-09 06:06:48.182010         NaN  \n",
       "519  2018-11-09 06:06:48.182010         NaN  \n",
       "520  2018-11-09 06:06:48.182010         NaN  "
      ]
     },
     "execution_count": 430,
     "metadata": {},
     "output_type": "execute_result"
    }
   ],
   "source": [
    "# 相关系数\n",
    "import pandas as pd\n",
    "import numpy as np\n",
    "df = pd.read_excel('/home/cliff/data/xls/compare_tool.xls')\n",
    "# print(df)\n",
    "# df.shape\n",
    "# df.info()\n",
    "# df.describe()\n",
    "# df.corrwith(df['cnt2'])\n",
    "# 均值 + 标准差\n",
    "dfdiff = df['cnt1']-df['cnt2']\n",
    "diff_mean = dfdiff.mean()\n",
    "# 计算均值\n",
    "diff_std = dfdiff.std()\n",
    "print(diff_mean,diff_std)\n",
    "df[abs(dfdiff - diff_mean) > diff_std]"
   ]
  },
  {
   "cell_type": "code",
   "execution_count": 121,
   "metadata": {},
   "outputs": [],
   "source": [
    "# 透视图\n",
    "# cnt1_label = pd.cut(df['cnt1'],3,labels=['lit','mdl','lot'])\n",
    "\n",
    "# df['cnt1'] = cnt1_label\n",
    "# df.pivot_table(index=['job_name','trgt'],values=['cnt1','cnt2','diff'],aggfunc=np.sum,margins=True)\n",
    "# pd.crosstab(df['cnt1'], df['cnt2'], margins=True) #margins作用同上"
   ]
  },
  {
   "cell_type": "code",
   "execution_count": 425,
   "metadata": {},
   "outputs": [
    {
     "name": "stdout",
     "output_type": "stream",
     "text": [
      "33.63183860273555\n"
     ]
    },
    {
     "data": {
      "text/html": [
       "<div>\n",
       "<style scoped>\n",
       "    .dataframe tbody tr th:only-of-type {\n",
       "        vertical-align: middle;\n",
       "    }\n",
       "\n",
       "    .dataframe tbody tr th {\n",
       "        vertical-align: top;\n",
       "    }\n",
       "\n",
       "    .dataframe thead th {\n",
       "        text-align: right;\n",
       "    }\n",
       "</style>\n",
       "<table border=\"1\" class=\"dataframe\">\n",
       "  <thead>\n",
       "    <tr style=\"text-align: right;\">\n",
       "      <th></th>\n",
       "      <th>cnt1</th>\n",
       "      <th>cnt2</th>\n",
       "    </tr>\n",
       "  </thead>\n",
       "  <tbody>\n",
       "    <tr>\n",
       "      <th>398</th>\n",
       "      <td>3336</td>\n",
       "      <td>3339</td>\n",
       "    </tr>\n",
       "    <tr>\n",
       "      <th>518</th>\n",
       "      <td>390578</td>\n",
       "      <td>391243</td>\n",
       "    </tr>\n",
       "    <tr>\n",
       "      <th>519</th>\n",
       "      <td>229288</td>\n",
       "      <td>229566</td>\n",
       "    </tr>\n",
       "    <tr>\n",
       "      <th>520</th>\n",
       "      <td>43422</td>\n",
       "      <td>43700</td>\n",
       "    </tr>\n",
       "  </tbody>\n",
       "</table>\n",
       "</div>"
      ],
      "text/plain": [
       "       cnt1    cnt2\n",
       "398    3336    3339\n",
       "518  390578  391243\n",
       "519  229288  229566\n",
       "520   43422   43700"
      ]
     },
     "execution_count": 425,
     "metadata": {},
     "output_type": "execute_result"
    }
   ],
   "source": [
    "# 作图，线性，聚类\n",
    "from matplotlib import pyplot as plt\n",
    "import numpy as np\n",
    "dfcnt12 =df[['cnt1','cnt2']]\n",
    "# 找出异常值1\n",
    "# dffilter = dfcnt12[abs(dfcnt12['cnt1']-dfcnt12['cnt2'])<200]\n",
    "# plt.plot(dffilter['cnt1']-dffilter['cnt2'])\n",
    "# 找出异常值2\n",
    "dfdiff = dfcnt12['cnt1']-dfcnt12['cnt2']\n",
    "print(np.std(np.abs(dfdiff)))\n",
    "# print(abs(dfdiff))\n",
    "dfcnt12[abs(dfdiff) > np.mean(abs(dfdiff))]\n",
    "\n",
    "# plt.plot(dfdiff)\n",
    "# dfone = dfcnt12.apply(lambda x: (x - np.min(x)) / (np.max(x) - np.min(x)))\n",
    "# plt.plot(dfone['cnt1']-dfone['cnt2'])\n",
    "# plt.scatter(dfone['cnt1'],dfone['cnt2'])"
   ]
  },
  {
   "cell_type": "code",
   "execution_count": 223,
   "metadata": {},
   "outputs": [
    {
     "data": {
      "text/plain": [
       "Text(0.5,1,'contour')"
      ]
     },
     "execution_count": 223,
     "metadata": {},
     "output_type": "execute_result"
    },
    {
     "data": {
      "image/png": "[encoded data removed]",
      "text/plain": [
       "<Figure size 432x288 with 8 Axes>"
      ]
     },
     "metadata": {
      "needs_background": "light"
     },
     "output_type": "display_data"
    }
   ],
   "source": [
    "x = [1, 2, 3, 4]\n",
    "y = [3, 5, 10, 25]\n",
    "#折线图\n",
    "plt.subplot(241)\n",
    "plt.plot(x,y)\n",
    "plt.title(\"plot\")\n",
    "\n",
    "#散点图\n",
    "plt.subplot(242)\n",
    "plt.scatter(x, y)\n",
    "plt.title(\"scatter\")\n",
    "\n",
    "#饼型图\n",
    "plt.subplot(243)\n",
    "plt.pie(y)\n",
    "plt.title(\"pie\")\n",
    "\n",
    "#树状图\n",
    "plt.subplot(244)\n",
    "plt.bar(x, y)\n",
    "plt.title(\"bar\")\n",
    "\n",
    "#箱型图 \n",
    "plt.subplot(245)\n",
    "plt.boxplot(y,sym='o')\n",
    "plt.title(\"box\")\n",
    "\n",
    "#复合图\n",
    "plt.subplot(246)\n",
    "t = np.arange(0., 5., 0.2)\n",
    "# red dashes, blue squares and green triangles\n",
    "plt.plot(t, t, 'r--', t, t**2, 'bs', t, t**3, 'g^')\n",
    "plt.title(\"Pyplot Three\")\n",
    "delta = 0.025\n",
    "cx = cy = np.arange(-3.0, 3.0, delta)\n",
    "X, Y = np.meshgrid(cx, cy)\n",
    "Z = Y**2 + X**2\n",
    "\n",
    "#contour\n",
    "plt.subplot(247)\n",
    "plt.contour(X,Y,Z)\n",
    "plt.colorbar()\n",
    "plt.title(\"contour\")"
   ]
  },
  {
   "cell_type": "code",
   "execution_count": 466,
   "metadata": {},
   "outputs": [
    {
     "data": {
      "image/png": "[encoded data removed]",
      "text/plain": [
       "<Figure size 432x288 with 1 Axes>"
      ]
     },
     "metadata": {
      "needs_background": "light"
     },
     "output_type": "display_data"
    },
    {
     "data": {
      "text/plain": [
       "[<matplotlib.lines.Line2D at 0x7f3e43254610>]"
      ]
     },
     "execution_count": 466,
     "metadata": {},
     "output_type": "execute_result"
    },
    {
     "data": {
      "image/png": "[encoded data removed]",
      "text/plain": [
       "<Figure size 432x288 with 1 Axes>"
      ]
     },
     "metadata": {
      "needs_background": "light"
     },
     "output_type": "display_data"
    }
   ],
   "source": [
    "# 异常值检测3\n",
    "# 箱图\n",
    "dfcnt12 = df[['cnt1','cnt2']]\n",
    "# dfcnt12.info()\n",
    "# type(dfcnt12.values)\n",
    "# dfcnt12.columns\n",
    "# dfone = dfcnt12.apply(lambda x: (x - np.min(x)) / (np.max(x) - np.min(x)))\n",
    "# plt.boxplot(\n",
    "#     x=dfone.values,\n",
    "#     labels=dfone.columns,\n",
    "#     patch_artist=True, # 要求用自定义颜色填充盒形图，默认白色填充\n",
    "#     showmeans=True, # 以点的形式显示均值\n",
    "#     boxprops = {'color':'black','facecolor':'#9999ff'}, # 设置箱体属性，填充色和边框色\n",
    "#     flierprops = {'marker':'o','markerfacecolor':'red','color':'black'}, # 设置异常值属性，点的形状、填充色和边框色\n",
    "#     meanprops = {'marker':'D','markerfacecolor':'indianred'}, # 设置均值点的属性，点的形状、填充色\n",
    "#     medianprops = {'linestyle':'--','color':'orange'} # 设置中位数线的属性，线的类型和颜色\n",
    "# )\n",
    "# plt.plot(dfdiff)\n",
    "# plt.scatter(dfdiff.index,dfdiff)\n",
    "\n",
    "\n",
    "\n",
    "# 直方图，高斯分布\n",
    "# bins = np.linspace(-100, 100, 10)\n",
    "plt.hist(df['cnt1'])\n",
    "plt.show()\n",
    "plt.plot(df['cnt1'])\n",
    "# plt.hist(dfcnt12['cnt1']-dfcnt12['cnt2'], label=\"Samples 1\")\n",
    "# plt.hist(dfcnt12['cnt2'],  label=\"Samples 2\")\n",
    "# plt.show()\n",
    "\n",
    "\n",
    "# 基本信息查询\n",
    "# df.info()\n",
    "# 主要统计有各列键非空数据数量（便于后面填充空值）、各列数据类型、及数据类型统计（一般object表示字符串对象数量）。\n",
    "\n",
    "# print(df.describe())\n",
    "# 默认统计数值型数据每列数据平均值，标准差，最大值，最小值，25%，50%，75%比例。\n",
    "# print(df.describe(include=['O']))\n",
    "# 统计字符串型数据的总数，取不同值数量，频率最高的取值。其中include参数是结果数据类型白名单，O代表object类型，可用info中输出类型筛选。\n",
    "\n",
    "\n",
    "# 查看数据的行键index（index.values）、列键columns(columns.values)、值values\n",
    "# print(df.index)\n",
    "# print(df.index.values)\n",
    "# print(df.columns)\n",
    "# print(df.columns.values)\n",
    "# print(df.values)"
   ]
  },
  {
   "cell_type": "code",
   "execution_count": 368,
   "metadata": {},
   "outputs": [
    {
     "data": {
      "image/png": "[encoded data removed]",
      "text/plain": [
       "<Figure size 432x288 with 1 Axes>"
      ]
     },
     "metadata": {
      "needs_background": "light"
     },
     "output_type": "display_data"
    },
    {
     "data": {
      "image/png": "[encoded data removed]",
      "text/plain": [
       "<Figure size 432x288 with 1 Axes>"
      ]
     },
     "metadata": {
      "needs_background": "light"
     },
     "output_type": "display_data"
    }
   ],
   "source": [
    "# 聚类实例1\n",
    "import matplotlib.pyplot as plt  \n",
    "import numpy as np  \n",
    "from sklearn.cluster import KMeans\n",
    "from sklearn import datasets \n",
    "\n",
    "iris = datasets.load_iris() \n",
    "X = iris.data[:, :2]  #表示我们取特征空间中的4个维度\n",
    "# print(X.shape)\n",
    "# print(type(X))\n",
    "# print(X)\n",
    "# print(iris.data)\n",
    "# 绘制数据分布图\n",
    "plt.scatter(X[:, 0], X[:, 1], c=\"red\", marker='o', label='see')\n",
    "plt.xlabel('petal length')\n",
    "plt.ylabel('petal width')\n",
    "# plt.legend(loc=2)\n",
    "plt.show()\n",
    "\n",
    "estimator = KMeans(n_clusters=2)  # 构造聚类器\n",
    "estimator.fit(X)  # 聚类\n",
    "label_pred = estimator.labels_  # 获取聚类标签\n",
    "# print(label_pred==0)\n",
    "# print(label_pred==1)\n",
    "# # 绘制k-means结果\n",
    "x0 = X[label_pred == 0]\n",
    "x1 = X[label_pred == 1]\n",
    "x2 = X[label_pred == 2]\n",
    "plt.scatter(x0[:, 0], x0[:, 1], c=\"red\", marker='o', label='label0')  \n",
    "plt.scatter(x1[:, 0], x1[:, 1], c=\"green\", marker='*', label='label1')  \n",
    "plt.scatter(x2[:, 0], x2[:, 1], c=\"blue\", marker='+', label='label2')  \n",
    "plt.xlabel('petal length')  \n",
    "plt.ylabel('petal width')  \n",
    "plt.legend(loc=2)  \n",
    "plt.show()"
   ]
  },
  {
   "cell_type": "code",
   "execution_count": 419,
   "metadata": {},
   "outputs": [
    {
     "data": {
      "image/png": "[encoded data removed]",
      "text/plain": [
       "<Figure size 432x288 with 1 Axes>"
      ]
     },
     "metadata": {
      "needs_background": "light"
     },
     "output_type": "display_data"
    },
    {
     "data": {
      "image/png": "[encoded data removed]",
      "text/plain": [
       "<Figure size 432x288 with 1 Axes>"
      ]
     },
     "metadata": {
      "needs_background": "light"
     },
     "output_type": "display_data"
    }
   ],
   "source": [
    "# 聚类实例2\n",
    "import matplotlib.pyplot as plt  \n",
    "import numpy as np  \n",
    "from sklearn.cluster import KMeans\n",
    "from sklearn import datasets \n",
    "\n",
    "# 1绘制数据分布图\n",
    "dftmp2 = pd.DataFrame([dfdiff.index,list(dfdiff)])\n",
    "# print(dftmp2.stack())\n",
    "dftmp2T = dftmp2.T\n",
    "dfndarry=dftmp2T.values\n",
    "# print(dftmp2)\n",
    "plt.scatter(dfndarry[:,0],dfndarry[:,1], c=\"red\", marker='o', label='see')\n",
    "plt.show()\n",
    "\n",
    "# # 2构造聚类器\n",
    "estimator = KMeans(n_clusters=2)  # 构造聚类器\n",
    "estimator.fit(dfndarry)  # 聚类\n",
    "label_pred = estimator.labels_  # 获取聚类标签\n",
    "\n",
    "# # 3绘制k-means结果\n",
    "x0 = dfndarry[label_pred == 0]\n",
    "x1 = dfndarry[label_pred == 1]\n",
    "plt.scatter(x0[:,0],x0[:,1], c=\"red\", marker='o', label='label0')  \n",
    "plt.scatter(x1[:,0],x1[:,1], c=\"blue\", marker='+', label='label1')  \n",
    "plt.show()\n"
   ]
  }
 ],
 "metadata": {
  "kernelspec": {
   "display_name": "Python 2",
   "language": "python",
   "name": "python2"
  },
  "language_info": {
   "codemirror_mode": {
    "name": "ipython",
    "version": 2
   },
   "file_extension": ".py",
   "mimetype": "text/x-python",
   "name": "python",
   "nbconvert_exporter": "python",
   "pygments_lexer": "ipython2",
   "version": "2.7.15rc1"
  }
 },
 "nbformat": 4,
 "nbformat_minor": 2
}
